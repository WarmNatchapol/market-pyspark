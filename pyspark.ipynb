{
 "cells": [
  {
   "attachments": {},
   "cell_type": "markdown",
   "id": "ee126d09-106b-4cb4-b73a-db4e1ad27ae8",
   "metadata": {},
   "source": [
    "### Import libraries"
   ]
  },
  {
   "cell_type": "code",
   "execution_count": 1,
   "id": "201a027b-24a3-4103-8d0f-a0de4b66a82b",
   "metadata": {},
   "outputs": [],
   "source": [
    "from pyspark import SparkContext"
   ]
  },
  {
   "cell_type": "code",
   "execution_count": 2,
   "id": "df812078-4c92-4199-b120-91cb7040eae2",
   "metadata": {},
   "outputs": [],
   "source": [
    "from pyspark.sql import SparkSession"
   ]
  },
  {
   "cell_type": "code",
   "execution_count": 3,
   "id": "7c76edef-1c53-4b48-a6a3-0eb29135bc2e",
   "metadata": {},
   "outputs": [],
   "source": [
    "from pyspark.sql.functions import *"
   ]
  },
  {
   "cell_type": "code",
   "execution_count": 4,
   "id": "533fa377-bdf6-4bc0-afde-e9fe5df00b6b",
   "metadata": {},
   "outputs": [],
   "source": [
    "from pyspark.sql.types import IntegerType, FloatType, DateType"
   ]
  },
  {
   "cell_type": "code",
   "execution_count": 5,
   "id": "db8e0ee0-15f5-49d0-9241-48a2035eec76",
   "metadata": {},
   "outputs": [],
   "source": [
    "from pyspark.sql.window import Window"
   ]
  },
  {
   "attachments": {},
   "cell_type": "markdown",
   "id": "70f1da42-de0f-45ec-9e97-0ba6e648c64c",
   "metadata": {},
   "source": [
    "### Initialized SparkSession"
   ]
  },
  {
   "cell_type": "code",
   "execution_count": 6,
   "id": "7f72d895-cedb-49b0-87e6-c7a4b3e61313",
   "metadata": {},
   "outputs": [],
   "source": [
    "# run spark using all of cores\n",
    "sc = SparkContext(master=\"local[*]\")"
   ]
  },
  {
   "cell_type": "code",
   "execution_count": 7,
   "id": "a58a0d19-f97d-4cfa-8ce1-e0f11b8fcce9",
   "metadata": {},
   "outputs": [],
   "source": [
    "# start SparkSession\n",
    "spark = SparkSession(sparkContext=sc).builder.appName(\"Market Basket\").getOrCreate()"
   ]
  },
  {
   "attachments": {},
   "cell_type": "markdown",
   "id": "22a555e5-abcc-4bd2-be73-d01a96ed4006",
   "metadata": {},
   "source": [
    "### Load csv data"
   ]
  },
  {
   "attachments": {},
   "cell_type": "markdown",
   "id": "6d316263-6bab-4d97-817d-4050b9f6de35",
   "metadata": {},
   "source": [
    "Market Basket Data from Kaggle: https://www.kaggle.com/datasets/aslanahmedov/market-basket-analysis"
   ]
  },
  {
   "cell_type": "code",
   "execution_count": 8,
   "id": "4c80b7ce-4a00-413f-a3d9-7ef26eff63ae",
   "metadata": {},
   "outputs": [],
   "source": [
    "# source file is separated by semicolon\n",
    "df = spark.read.option(\"sep\", \";\").csv(\"data.csv\", header=True)"
   ]
  },
  {
   "cell_type": "code",
   "execution_count": 9,
   "id": "c0577df1-8d80-48e9-9fa2-9c5a0704e8c3",
   "metadata": {},
   "outputs": [
    {
     "name": "stdout",
     "output_type": "stream",
     "text": [
      "+------+--------------------+--------+----------------+-----+----------+--------------+\n",
      "|BillNo|            Itemname|Quantity|            Date|Price|CustomerID|       Country|\n",
      "+------+--------------------+--------+----------------+-----+----------+--------------+\n",
      "|536365|WHITE HANGING HEA...|       6|01.12.2010 08:26| 2,55|     17850|United Kingdom|\n",
      "|536365| WHITE METAL LANTERN|       6|01.12.2010 08:26| 3,39|     17850|United Kingdom|\n",
      "|536365|CREAM CUPID HEART...|       8|01.12.2010 08:26| 2,75|     17850|United Kingdom|\n",
      "|536365|KNITTED UNION FLA...|       6|01.12.2010 08:26| 3,39|     17850|United Kingdom|\n",
      "|536365|RED WOOLLY HOTTIE...|       6|01.12.2010 08:26| 3,39|     17850|United Kingdom|\n",
      "|536365|SET 7 BABUSHKA NE...|       2|01.12.2010 08:26| 7,65|     17850|United Kingdom|\n",
      "|536365|GLASS STAR FROSTE...|       6|01.12.2010 08:26| 4,25|     17850|United Kingdom|\n",
      "|536366|HAND WARMER UNION...|       6|01.12.2010 08:28| 1,85|     17850|United Kingdom|\n",
      "|536366|HAND WARMER RED P...|       6|01.12.2010 08:28| 1,85|     17850|United Kingdom|\n",
      "|536367|ASSORTED COLOUR B...|      32|01.12.2010 08:34| 1,69|     13047|United Kingdom|\n",
      "+------+--------------------+--------+----------------+-----+----------+--------------+\n",
      "only showing top 10 rows\n",
      "\n"
     ]
    }
   ],
   "source": [
    "df.show(10)"
   ]
  },
  {
   "attachments": {},
   "cell_type": "markdown",
   "id": "01196185-cbad-48dd-a31c-0ab8a95b60a8",
   "metadata": {},
   "source": [
    "### Columns and count rows"
   ]
  },
  {
   "cell_type": "code",
   "execution_count": 10,
   "id": "dfa05564-e36a-47ab-a183-87321ea1af65",
   "metadata": {},
   "outputs": [
    {
     "data": {
      "text/plain": [
       "['BillNo', 'Itemname', 'Quantity', 'Date', 'Price', 'CustomerID', 'Country']"
      ]
     },
     "execution_count": 10,
     "metadata": {},
     "output_type": "execute_result"
    }
   ],
   "source": [
    "df.columns"
   ]
  },
  {
   "cell_type": "code",
   "execution_count": 11,
   "id": "14162cdd-afea-4365-b7b1-1be95daf7215",
   "metadata": {},
   "outputs": [
    {
     "data": {
      "text/plain": [
       "522064"
      ]
     },
     "execution_count": 11,
     "metadata": {},
     "output_type": "execute_result"
    }
   ],
   "source": [
    "# number of rows\n",
    "df.count()"
   ]
  },
  {
   "attachments": {},
   "cell_type": "markdown",
   "id": "5af53963-1f88-4708-8b0e-2bb5d871026c",
   "metadata": {},
   "source": [
    "### Dataframe schema"
   ]
  },
  {
   "cell_type": "code",
   "execution_count": 12,
   "id": "8e85255d-938f-4c06-b61c-57a2920a0f69",
   "metadata": {},
   "outputs": [
    {
     "data": {
      "text/plain": [
       "[('BillNo', 'string'),\n",
       " ('Itemname', 'string'),\n",
       " ('Quantity', 'string'),\n",
       " ('Date', 'string'),\n",
       " ('Price', 'string'),\n",
       " ('CustomerID', 'string'),\n",
       " ('Country', 'string')]"
      ]
     },
     "execution_count": 12,
     "metadata": {},
     "output_type": "execute_result"
    }
   ],
   "source": [
    "df.dtypes"
   ]
  },
  {
   "cell_type": "code",
   "execution_count": 13,
   "id": "8009a2d4-fbcc-4eb8-9446-70347cb58613",
   "metadata": {},
   "outputs": [
    {
     "name": "stdout",
     "output_type": "stream",
     "text": [
      "root\n",
      " |-- BillNo: string (nullable = true)\n",
      " |-- Itemname: string (nullable = true)\n",
      " |-- Quantity: string (nullable = true)\n",
      " |-- Date: string (nullable = true)\n",
      " |-- Price: string (nullable = true)\n",
      " |-- CustomerID: string (nullable = true)\n",
      " |-- Country: string (nullable = true)\n",
      "\n"
     ]
    }
   ],
   "source": [
    "df.printSchema()"
   ]
  },
  {
   "attachments": {},
   "cell_type": "markdown",
   "id": "720f93e4-e75b-4891-bf0e-86de0f03582d",
   "metadata": {},
   "source": [
    "### Inspect Duplicates values"
   ]
  },
  {
   "cell_type": "code",
   "execution_count": 14,
   "id": "ba4f3a38-e4e9-4725-b577-6f0605a942c0",
   "metadata": {},
   "outputs": [
    {
     "name": "stdout",
     "output_type": "stream",
     "text": [
      "+------+--------------------+--------+----------------+-----+----------+--------------+-----+\n",
      "|BillNo|            Itemname|Quantity|            Date|Price|CustomerID|       Country|count|\n",
      "+------+--------------------+--------+----------------+-----+----------+--------------+-----+\n",
      "|555524|PINK REGENCY TEAC...|       1|05.06.2011 11:37| 2,95|     16923|United Kingdom|   20|\n",
      "|555524|GREEN REGENCY TEA...|       1|05.06.2011 11:37| 2,95|     16923|United Kingdom|   12|\n",
      "|572861|PURPLE DRAWERKNOB...|      12|26.10.2011 12:46| 1,25|     14102|United Kingdom|    8|\n",
      "|538514|BATH BUILDING BLO...|       1|12.12.2010 14:27| 5,95|     15044|United Kingdom|    6|\n",
      "|541266|HOME BUILDING BLO...|       1|16.01.2011 16:25| 5,95|     15673|United Kingdom|    6|\n",
      "+------+--------------------+--------+----------------+-----+----------+--------------+-----+\n",
      "only showing top 5 rows\n",
      "\n"
     ]
    }
   ],
   "source": [
    "# inspect duplicate values and count them\n",
    "df.groupby([\"BillNo\", \"Itemname\", \"Quantity\", \"Date\", \"Price\", \"CustomerID\", \"Country\"]).count() \\\n",
    ".filter(\"count > 1\").sort(\"count\", ascending=False).show(5)"
   ]
  },
  {
   "cell_type": "code",
   "execution_count": 15,
   "id": "ec0d842d-1d98-4888-9c8a-6d633765f9ee",
   "metadata": {},
   "outputs": [
    {
     "name": "stdout",
     "output_type": "stream",
     "text": [
      "+------+--------------------+--------+----------------+-----+----------+--------------+\n",
      "|BillNo|            Itemname|Quantity|            Date|Price|CustomerID|       Country|\n",
      "+------+--------------------+--------+----------------+-----+----------+--------------+\n",
      "|555524|PINK REGENCY TEAC...|       1|05.06.2011 11:37| 2,95|     16923|United Kingdom|\n",
      "|555524|PINK REGENCY TEAC...|       1|05.06.2011 11:37| 2,95|     16923|United Kingdom|\n",
      "|555524|PINK REGENCY TEAC...|       1|05.06.2011 11:37| 2,95|     16923|United Kingdom|\n",
      "|555524|PINK REGENCY TEAC...|       1|05.06.2011 11:37| 2,95|     16923|United Kingdom|\n",
      "|555524|PINK REGENCY TEAC...|       1|05.06.2011 11:37| 2,95|     16923|United Kingdom|\n",
      "|555524|PINK REGENCY TEAC...|       1|05.06.2011 11:37| 2,95|     16923|United Kingdom|\n",
      "|555524|PINK REGENCY TEAC...|       1|05.06.2011 11:37| 2,95|     16923|United Kingdom|\n",
      "|555524|PINK REGENCY TEAC...|       1|05.06.2011 11:37| 2,95|     16923|United Kingdom|\n",
      "|555524|PINK REGENCY TEAC...|       1|05.06.2011 11:37| 2,95|     16923|United Kingdom|\n",
      "|555524|PINK REGENCY TEAC...|       1|05.06.2011 11:37| 2,95|     16923|United Kingdom|\n",
      "|555524|PINK REGENCY TEAC...|       1|05.06.2011 11:37| 2,95|     16923|United Kingdom|\n",
      "|555524|PINK REGENCY TEAC...|       1|05.06.2011 11:37| 2,95|     16923|United Kingdom|\n",
      "|555524|PINK REGENCY TEAC...|       1|05.06.2011 11:37| 2,95|     16923|United Kingdom|\n",
      "|555524|PINK REGENCY TEAC...|       1|05.06.2011 11:37| 2,95|     16923|United Kingdom|\n",
      "|555524|PINK REGENCY TEAC...|       1|05.06.2011 11:37| 2,95|     16923|United Kingdom|\n",
      "|555524|PINK REGENCY TEAC...|       1|05.06.2011 11:37| 2,95|     16923|United Kingdom|\n",
      "|555524|PINK REGENCY TEAC...|       1|05.06.2011 11:37| 2,95|     16923|United Kingdom|\n",
      "|555524|PINK REGENCY TEAC...|       1|05.06.2011 11:37| 2,95|     16923|United Kingdom|\n",
      "|555524|PINK REGENCY TEAC...|       1|05.06.2011 11:37| 2,95|     16923|United Kingdom|\n",
      "|555524|PINK REGENCY TEAC...|       1|05.06.2011 11:37| 2,95|     16923|United Kingdom|\n",
      "+------+--------------------+--------+----------------+-----+----------+--------------+\n",
      "\n"
     ]
    }
   ],
   "source": [
    "# example of duplicate values\n",
    "df.filter((df.BillNo == 555524) & (df.Itemname == \"PINK REGENCY TEACUP AND SAUCER\")).sort(\"Itemname\").show()"
   ]
  },
  {
   "cell_type": "code",
   "execution_count": 16,
   "id": "4c98e496-286d-40fd-bc23-ea2313df6e4a",
   "metadata": {},
   "outputs": [],
   "source": [
    "# drop duplicate values\n",
    "df = df.dropDuplicates()"
   ]
  },
  {
   "cell_type": "code",
   "execution_count": 17,
   "id": "a2724220-acb7-4cf2-968d-5554b72d65ba",
   "metadata": {},
   "outputs": [
    {
     "name": "stdout",
     "output_type": "stream",
     "text": [
      "+------+--------+--------+----+-----+----------+-------+-----+\n",
      "|BillNo|Itemname|Quantity|Date|Price|CustomerID|Country|count|\n",
      "+------+--------+--------+----+-----+----------+-------+-----+\n",
      "+------+--------+--------+----+-----+----------+-------+-----+\n",
      "\n"
     ]
    }
   ],
   "source": [
    "# show duplicate values again\n",
    "df.groupby([\"BillNo\", \"Itemname\", \"Quantity\", \"Date\", \"Price\", \"CustomerID\", \"Country\"]).count() \\\n",
    ".filter(\"count > 1\").sort(\"count\", ascending=False).show(5)"
   ]
  },
  {
   "attachments": {},
   "cell_type": "markdown",
   "id": "d256641f-a8a1-4d4a-aeab-8edbb4d36cf5",
   "metadata": {},
   "source": [
    "### Inspect Null values"
   ]
  },
  {
   "cell_type": "code",
   "execution_count": 18,
   "id": "3fd82fff-b2b8-464a-bddd-d41023c8c0bc",
   "metadata": {},
   "outputs": [
    {
     "name": "stdout",
     "output_type": "stream",
     "text": [
      "+-------+------+--------+--------+------+------+----------+-------+\n",
      "|summary|BillNo|Itemname|Quantity|  Date| Price|CustomerID|Country|\n",
      "+-------+------+--------+--------+------+------+----------+-------+\n",
      "|  count|516778|  515323|  516778|516778|516778|    382811| 516778|\n",
      "+-------+------+--------+--------+------+------+----------+-------+\n",
      "\n"
     ]
    }
   ],
   "source": [
    "df.summary(\"count\").show()"
   ]
  },
  {
   "attachments": {},
   "cell_type": "markdown",
   "id": "a05d21bb-6587-4d5f-a853-ecb8a01f3c56",
   "metadata": {},
   "source": [
    "Itemname and CustomerID columns contain null values"
   ]
  },
  {
   "cell_type": "code",
   "execution_count": 19,
   "id": "28cc8425-8f90-4f2d-9a75-8516e06cbad7",
   "metadata": {},
   "outputs": [
    {
     "name": "stdout",
     "output_type": "stream",
     "text": [
      "+------+--------+--------+----------------+-----+----------+--------------+\n",
      "|BillNo|Itemname|Quantity|            Date|Price|CustomerID|       Country|\n",
      "+------+--------+--------+----------------+-----+----------+--------------+\n",
      "|543238|    null|       1|04.02.2011 13:42|    0|      null|United Kingdom|\n",
      "|537878|    null|       1|08.12.2010 18:09|    0|      null|United Kingdom|\n",
      "|543258|    null|    1287|04.02.2011 16:06|    0|      null|United Kingdom|\n",
      "|542504|    null|    5568|28.01.2011 12:03|    0|      null|United Kingdom|\n",
      "|543268|    null|       3|04.02.2011 17:24|    0|      null|United Kingdom|\n",
      "+------+--------+--------+----------------+-----+----------+--------------+\n",
      "only showing top 5 rows\n",
      "\n",
      "+------+--------------------+--------+----------------+-----+----------+--------------+\n",
      "|BillNo|            Itemname|Quantity|            Date|Price|CustomerID|       Country|\n",
      "+------+--------------------+--------+----------------+-----+----------+--------------+\n",
      "|536544|RAIN PONCHO RETRO...|       2|01.12.2010 14:32| 1,66|      null|United Kingdom|\n",
      "|536544| SAVE THE PLANET MUG|       5|01.12.2010 14:32| 3,36|      null|United Kingdom|\n",
      "|536544|SANDWICH BATH SPONGE|       4|01.12.2010 14:32| 2,51|      null|United Kingdom|\n",
      "|536592|DOORSTOP RETROSPO...|       2|01.12.2010 17:06| 7,62|      null|United Kingdom|\n",
      "|536592|  HERB MARKER CHIVES|       1|01.12.2010 17:06| 1,66|      null|United Kingdom|\n",
      "+------+--------------------+--------+----------------+-----+----------+--------------+\n",
      "only showing top 5 rows\n",
      "\n"
     ]
    }
   ],
   "source": [
    "# inspect this 2 columns\n",
    "df.filter(df.Itemname.isNull()).show(5)\n",
    "df.filter(df.CustomerID.isNull()).show(5)"
   ]
  },
  {
   "attachments": {},
   "cell_type": "markdown",
   "id": "c873258f-7c18-4eea-99e0-6fdb25cfb713",
   "metadata": {},
   "source": [
    "In this project, I need to make RFM customer segmentation. Thus, I will drop null values."
   ]
  },
  {
   "cell_type": "code",
   "execution_count": 20,
   "id": "c5254e51-8b26-4a2b-bb4e-89e30d0a929d",
   "metadata": {},
   "outputs": [],
   "source": [
    "# drop null values\n",
    "df = df.dropna()"
   ]
  },
  {
   "cell_type": "code",
   "execution_count": 21,
   "id": "6ae3548b-b454-4f95-9f48-2a357df05687",
   "metadata": {},
   "outputs": [
    {
     "name": "stdout",
     "output_type": "stream",
     "text": [
      "+------+--------+--------+----+-----+----------+-------+\n",
      "|BillNo|Itemname|Quantity|Date|Price|CustomerID|Country|\n",
      "+------+--------+--------+----+-----+----------+-------+\n",
      "+------+--------+--------+----+-----+----------+-------+\n",
      "\n",
      "+------+--------+--------+----+-----+----------+-------+\n",
      "|BillNo|Itemname|Quantity|Date|Price|CustomerID|Country|\n",
      "+------+--------+--------+----+-----+----------+-------+\n",
      "+------+--------+--------+----+-----+----------+-------+\n",
      "\n"
     ]
    }
   ],
   "source": [
    "# show it again\n",
    "df.filter(df.Itemname.isNull()).show(1)\n",
    "df.filter(df.CustomerID.isNull()).show(1)"
   ]
  },
  {
   "cell_type": "code",
   "execution_count": 22,
   "id": "42228521-12bf-4040-acc7-f1b1d4283a2b",
   "metadata": {},
   "outputs": [
    {
     "name": "stdout",
     "output_type": "stream",
     "text": [
      "+-------+------+--------+--------+------+------+----------+-------+\n",
      "|summary|BillNo|Itemname|Quantity|  Date| Price|CustomerID|Country|\n",
      "+-------+------+--------+--------+------+------+----------+-------+\n",
      "|  count|382811|  382811|  382811|382811|382811|    382811| 382811|\n",
      "+-------+------+--------+--------+------+------+----------+-------+\n",
      "\n"
     ]
    }
   ],
   "source": [
    "# count rows\n",
    "df.summary(\"count\").show()"
   ]
  },
  {
   "attachments": {},
   "cell_type": "markdown",
   "id": "c0908e6f-ccdb-45b2-8ed2-ae054583bc0f",
   "metadata": {},
   "source": [
    "### Change column data types"
   ]
  },
  {
   "cell_type": "code",
   "execution_count": 23,
   "id": "e431632d-d409-4376-a483-a7a7b4bc65fd",
   "metadata": {},
   "outputs": [
    {
     "name": "stdout",
     "output_type": "stream",
     "text": [
      "+------+--------------------+--------+----------------+-----+----------+--------------+\n",
      "|BillNo|            Itemname|Quantity|            Date|Price|CustomerID|       Country|\n",
      "+------+--------------------+--------+----------------+-----+----------+--------------+\n",
      "|536404|PARTY INVITES SPA...|      12|01.12.2010 11:29| 0,85|     16218|United Kingdom|\n",
      "|536409|VANILLA SCENT CAN...|       1|01.12.2010 11:45| 4,25|     17908|United Kingdom|\n",
      "|536522|PINK & WHITE BREA...|       1|01.12.2010 12:49| 5,95|     15012|United Kingdom|\n",
      "|536525|REGENCY CAKESTAND...|       2|01.12.2010 12:54|12,75|     14078|United Kingdom|\n",
      "|536532|PACK OF 12 WOODLA...|      48|01.12.2010 13:24| 0,29|     12433|        Norway|\n",
      "+------+--------------------+--------+----------------+-----+----------+--------------+\n",
      "only showing top 5 rows\n",
      "\n"
     ]
    }
   ],
   "source": [
    "df.show(5)"
   ]
  },
  {
   "cell_type": "code",
   "execution_count": 24,
   "id": "575ae131-bf25-4b0f-9ad3-c082bf11f357",
   "metadata": {},
   "outputs": [],
   "source": [
    "# replace , by . and convert to float\n",
    "df = df.withColumn(\"Price\", regexp_replace(\"Price\", \",\", \".\")).withColumn(\"Price\", col(\"Price\").cast(FloatType()))"
   ]
  },
  {
   "cell_type": "code",
   "execution_count": 25,
   "id": "332bcc3a-b530-4cac-a658-84ce8ccdcc4f",
   "metadata": {},
   "outputs": [],
   "source": [
    "# convert quantity column to int and date column to timestamp\n",
    "df = df.withColumn(\"Quantity\", col(\"Quantity\").cast(IntegerType())).withColumn(\"Date\", to_timestamp(col(\"Date\"), \"dd.MM.yyy HH:mm\"))"
   ]
  },
  {
   "cell_type": "code",
   "execution_count": 26,
   "id": "fcd607da-f7db-4a44-a028-6bafec3718e4",
   "metadata": {},
   "outputs": [
    {
     "name": "stdout",
     "output_type": "stream",
     "text": [
      "root\n",
      " |-- BillNo: string (nullable = true)\n",
      " |-- Itemname: string (nullable = true)\n",
      " |-- Quantity: integer (nullable = true)\n",
      " |-- Date: timestamp (nullable = true)\n",
      " |-- Price: float (nullable = true)\n",
      " |-- CustomerID: string (nullable = true)\n",
      " |-- Country: string (nullable = true)\n",
      "\n"
     ]
    }
   ],
   "source": [
    "df.printSchema()"
   ]
  },
  {
   "cell_type": "code",
   "execution_count": 27,
   "id": "4f866e13-ada5-4ffe-b2fe-bf3ae5a932b6",
   "metadata": {},
   "outputs": [
    {
     "name": "stdout",
     "output_type": "stream",
     "text": [
      "+------+--------------------+--------+-------------------+-----+----------+--------------+\n",
      "|BillNo|            Itemname|Quantity|               Date|Price|CustomerID|       Country|\n",
      "+------+--------------------+--------+-------------------+-----+----------+--------------+\n",
      "|536404|PARTY INVITES SPA...|      12|2010-12-01 11:29:00| 0.85|     16218|United Kingdom|\n",
      "|536409|VANILLA SCENT CAN...|       1|2010-12-01 11:45:00| 4.25|     17908|United Kingdom|\n",
      "|536522|PINK & WHITE BREA...|       1|2010-12-01 12:49:00| 5.95|     15012|United Kingdom|\n",
      "|536525|REGENCY CAKESTAND...|       2|2010-12-01 12:54:00|12.75|     14078|United Kingdom|\n",
      "|536532|PACK OF 12 WOODLA...|      48|2010-12-01 13:24:00| 0.29|     12433|        Norway|\n",
      "+------+--------------------+--------+-------------------+-----+----------+--------------+\n",
      "only showing top 5 rows\n",
      "\n"
     ]
    }
   ],
   "source": [
    "df.show(5)"
   ]
  },
  {
   "attachments": {},
   "cell_type": "markdown",
   "id": "47e859ff-34e4-4a79-8245-68ccd44efb1d",
   "metadata": {},
   "source": [
    "### Exploratory Data Analysis (EDA)"
   ]
  },
  {
   "attachments": {},
   "cell_type": "markdown",
   "id": "a9317de2-e907-4b97-9efe-494ed04e5bfd",
   "metadata": {},
   "source": [
    "show summary statistics"
   ]
  },
  {
   "cell_type": "code",
   "execution_count": 28,
   "id": "7ae69b51-b00b-4b8a-90c2-0c4e5e3b5314",
   "metadata": {},
   "outputs": [
    {
     "name": "stdout",
     "output_type": "stream",
     "text": [
      "+-------+------------------+--------------------+------------------+------------------+------------------+-----------+\n",
      "|summary|            BillNo|            Itemname|          Quantity|             Price|        CustomerID|    Country|\n",
      "+-------+------------------+--------------------+------------------+------------------+------------------+-----------+\n",
      "|  count|            382811|              382811|            382811|            382811|            382811|     382811|\n",
      "|   mean| 560585.1165222524|                null|13.026059857214134|3.0886358188871323|15310.347701607321|       null|\n",
      "| stddev|13108.369584467999|                null|183.82358537616253|22.132048668029725|1722.4835156192983|       null|\n",
      "|    min|            536365|\"ASSORTED FLOWER ...|                 1|               0.0|             12346|  Australia|\n",
      "|    max|            581587|ZINC WIRE SWEETHE...|             80995|           8142.75|             18287|Unspecified|\n",
      "+-------+------------------+--------------------+------------------+------------------+------------------+-----------+\n",
      "\n"
     ]
    }
   ],
   "source": [
    "df.describe().show()"
   ]
  },
  {
   "cell_type": "code",
   "execution_count": 29,
   "id": "93a248c3-20cd-4e7d-b35a-490e2391c1c6",
   "metadata": {},
   "outputs": [
    {
     "name": "stdout",
     "output_type": "stream",
     "text": [
      "+-------+------------------+--------------------+------------------+------------------+------------------+-----------+\n",
      "|summary|            BillNo|            Itemname|          Quantity|             Price|        CustomerID|    Country|\n",
      "+-------+------------------+--------------------+------------------+------------------+------------------+-----------+\n",
      "|  count|            382811|              382811|            382811|            382811|            382811|     382811|\n",
      "|   mean| 560585.1165222524|                null|13.026059857214134|3.0886358188871323|15310.347701607321|       null|\n",
      "| stddev|13108.369584467999|                null|183.82358537616253|22.132048668029725|1722.4835156192983|       null|\n",
      "|    min|            536365|\"ASSORTED FLOWER ...|                 1|               0.0|             12346|  Australia|\n",
      "|    25%|          549222.0|                null|                 2|              1.25|           13928.0|       null|\n",
      "|    50%|          561873.0|                null|                 6|              1.95|           15249.0|       null|\n",
      "|    75%|          572087.0|                null|                12|              3.75|           16818.0|       null|\n",
      "|    max|            581587|ZINC WIRE SWEETHE...|             80995|           8142.75|             18287|Unspecified|\n",
      "+-------+------------------+--------------------+------------------+------------------+------------------+-----------+\n",
      "\n"
     ]
    }
   ],
   "source": [
    "df.summary().show()"
   ]
  },
  {
   "attachments": {},
   "cell_type": "markdown",
   "id": "8ed37206-a7f4-42df-a920-6866c51cc378",
   "metadata": {},
   "source": [
    "Quantity and Price columns may contain outliers. I will inspect later."
   ]
  },
  {
   "cell_type": "code",
   "execution_count": 30,
   "id": "19abb8cd-454b-491b-b9b8-cdddf6cb12e7",
   "metadata": {},
   "outputs": [
    {
     "name": "stdout",
     "output_type": "stream",
     "text": [
      "+-------------------+-------------------+\n",
      "|          min(Date)|          max(Date)|\n",
      "+-------------------+-------------------+\n",
      "|2010-12-01 08:26:00|2011-12-09 12:50:00|\n",
      "+-------------------+-------------------+\n",
      "\n"
     ]
    }
   ],
   "source": [
    "df.select(min(\"Date\"), max(\"Date\")).show()"
   ]
  },
  {
   "attachments": {},
   "cell_type": "markdown",
   "id": "39c0e13d-b3a1-4778-a315-7b286f087e77",
   "metadata": {},
   "source": [
    "Calculate TotalPrice by Price * Quantity"
   ]
  },
  {
   "cell_type": "code",
   "execution_count": 31,
   "id": "69862908-30c3-4da4-9976-319b5d8435a2",
   "metadata": {},
   "outputs": [],
   "source": [
    "df = df.withColumn(\"TotalPrice\", round(col(\"Price\")*col(\"Quantity\"), 2))"
   ]
  },
  {
   "attachments": {},
   "cell_type": "markdown",
   "id": "d466cf22-4774-4480-8b18-940978abbe8b",
   "metadata": {},
   "source": [
    "Inspect Quantity and Price columns"
   ]
  },
  {
   "cell_type": "code",
   "execution_count": 32,
   "id": "e8fcef49-4d99-444b-9964-b4fb18274747",
   "metadata": {},
   "outputs": [
    {
     "name": "stdout",
     "output_type": "stream",
     "text": [
      "+------+--------------------+--------+-------------------+-----+----------+--------------+----------+\n",
      "|BillNo|            Itemname|Quantity|               Date|Price|CustomerID|       Country|TotalPrice|\n",
      "+------+--------------------+--------+-------------------+-----+----------+--------------+----------+\n",
      "|581483|PAPER CRAFT , LIT...|   80995|2011-12-09 09:15:00| 2.08|     16446|United Kingdom|  168469.6|\n",
      "|541431|MEDIUM CERAMIC TO...|   74215|2011-01-18 10:01:00| 1.04|     12346|United Kingdom|  77183.59|\n",
      "|578841|ASSTD DESIGN 3D P...|   12540|2011-11-25 15:57:00|  0.0|     13256|United Kingdom|       0.0|\n",
      "|573008|WORLD WAR 2 GLIDE...|    4800|2011-10-27 12:26:00| 0.21|     12901|United Kingdom|    1008.0|\n",
      "|554868|SMALL POPCORN HOLDER|    4300|2011-05-27 10:52:00| 0.72|     13135|United Kingdom|    3096.0|\n",
      "|544612|EMPIRE DESIGN ROS...|    3906|2011-02-22 10:43:00| 0.82|     18087|United Kingdom|   3202.92|\n",
      "|560599|ESSENTIAL BALM 3....|    3186|2011-07-19 17:04:00| 0.06|     14609|United Kingdom|    191.16|\n",
      "|540815|FAIRY CAKE FLANNE...|    3114|2011-01-11 12:55:00|  2.1|     15749|United Kingdom|    6539.4|\n",
      "|550461|FAIRY CAKE FLANNE...|    3114|2011-04-18 13:20:00|  2.1|     15749|United Kingdom|    6539.4|\n",
      "|573995|SMALL CHINESE STY...|    3000|2011-11-02 11:24:00| 0.32|     16308|United Kingdom|     960.0|\n",
      "+------+--------------------+--------+-------------------+-----+----------+--------------+----------+\n",
      "only showing top 10 rows\n",
      "\n"
     ]
    }
   ],
   "source": [
    "df.sort(\"Quantity\", ascending=False).show(10)"
   ]
  },
  {
   "cell_type": "code",
   "execution_count": 33,
   "id": "611d39b8-301b-4cfe-855b-d0b40c1ca70d",
   "metadata": {},
   "outputs": [
    {
     "name": "stdout",
     "output_type": "stream",
     "text": [
      "+------+--------------+--------+-------------------+-------+----------+--------------+----------+\n",
      "|BillNo|      Itemname|Quantity|               Date|  Price|CustomerID|       Country|TotalPrice|\n",
      "+------+--------------+--------+-------------------+-------+----------+--------------+----------+\n",
      "|551697|       POSTAGE|       1|2011-05-03 13:46:00|8142.75|     16029|United Kingdom|   8142.75|\n",
      "|573077|        Manual|       1|2011-10-27 14:13:00|4161.06|     12536|        France|   4161.06|\n",
      "|573080|        Manual|       1|2011-10-27 14:20:00|4161.06|     12536|        France|   4161.06|\n",
      "|571751|        Manual|       1|2011-10-19 11:18:00|3949.32|     12744|     Singapore|   3949.32|\n",
      "|569382|        Manual|       1|2011-10-03 16:44:00|3155.95|     15502|United Kingdom|   3155.95|\n",
      "|562946|        Manual|       1|2011-08-11 09:38:00| 2500.0|     15581|United Kingdom|    2500.0|\n",
      "|548813|        Manual|       1|2011-04-04 13:03:00|2382.92|     12744|     Singapore|   2382.92|\n",
      "|571751|        Manual|       1|2011-10-19 11:18:00|2118.74|     12744|     Singapore|   2118.74|\n",
      "|548820|        Manual|       1|2011-04-04 13:04:00|2053.07|     12744|     Singapore|   2053.07|\n",
      "|566927|        Manual|       1|2011-09-15 15:20:00| 2033.1|     17846|United Kingdom|    2033.1|\n",
      "|549468|        Manual|       1|2011-04-08 14:27:00|1867.86|     17940|United Kingdom|   1867.86|\n",
      "|580727|DOTCOM POSTAGE|       1|2011-12-05 17:17:00|1599.26|     14096|United Kingdom|   1599.26|\n",
      "|579196|DOTCOM POSTAGE|       1|2011-11-28 15:54:00|1526.76|     14096|United Kingdom|   1526.76|\n",
      "|576339|DOTCOM POSTAGE|       1|2011-11-14 15:27:00|1500.36|     14096|United Kingdom|   1500.36|\n",
      "|578270|DOTCOM POSTAGE|       1|2011-11-23 13:39:00|1270.06|     14096|United Kingdom|   1270.06|\n",
      "|548813|        Manual|       1|2011-04-04 13:03:00|1252.95|     12744|     Singapore|   1252.95|\n",
      "|554155|        Manual|       1|2011-05-23 11:26:00|1241.98|     12757|      Portugal|   1241.98|\n",
      "|554301|        Manual|       1|2011-05-23 14:46:00|1241.98|     12757|      Portugal|   1241.98|\n",
      "|548913|        Manual|       1|2011-04-05 09:45:00| 1136.3|     12669|        France|    1136.3|\n",
      "|575607|DOTCOM POSTAGE|       1|2011-11-10 12:37:00| 908.16|     14096|United Kingdom|    908.16|\n",
      "+------+--------------+--------+-------------------+-------+----------+--------------+----------+\n",
      "only showing top 20 rows\n",
      "\n"
     ]
    }
   ],
   "source": [
    "df.sort(\"Price\", ascending=False).show()"
   ]
  },
  {
   "attachments": {},
   "cell_type": "markdown",
   "id": "244ee2cf-f4e4-453b-b2a0-5c0b467b98d2",
   "metadata": {},
   "source": [
    "In my opinion, It is probably outlier but in this project, I will leave it"
   ]
  },
  {
   "attachments": {},
   "cell_type": "markdown",
   "id": "fd49d0af-9f5d-471b-8a00-3b8adb55aaa0",
   "metadata": {},
   "source": [
    "### Prepare data for dashboard"
   ]
  },
  {
   "attachments": {},
   "cell_type": "markdown",
   "id": "16d8b78a-78b9-4690-afa0-c9b3bdad2885",
   "metadata": {},
   "source": [
    "Country dataframe with total bills and total sales"
   ]
  },
  {
   "cell_type": "code",
   "execution_count": 34,
   "id": "e68ecfee-46bf-4ab3-8a09-7330fa67ea88",
   "metadata": {},
   "outputs": [],
   "source": [
    "country_df = df.select(\"BillNo\", \"TotalPrice\", \"Country\").groupBy(\"Country\") \\\n",
    ".agg(count(\"BillNo\").alias(\"TotalBill\"), round(sum(\"TotalPrice\"), 2).alias(\"TotalSpend\"))"
   ]
  },
  {
   "attachments": {},
   "cell_type": "markdown",
   "id": "7e1a1d52-0bed-4667-a6c4-828d4c1cc3b6",
   "metadata": {},
   "source": [
    "Itemnames dataframe with total bills, total quantity, and total sales"
   ]
  },
  {
   "cell_type": "code",
   "execution_count": 35,
   "id": "fad190fe-3e7d-4d6a-bb82-c5f242f84302",
   "metadata": {},
   "outputs": [],
   "source": [
    "item_df = df.select(\"BillNo\", \"Quantity\", \"TotalPrice\", \"Itemname\").groupBy(\"Itemname\") \\\n",
    ".agg(count(\"BillNo\").alias(\"TotalBill\"), sum(\"Quantity\").alias(\"TotalQuantity\"), round(sum(\"TotalPrice\"), 2).alias(\"TotalSpend\"))"
   ]
  },
  {
   "attachments": {},
   "cell_type": "markdown",
   "id": "e5f5349b-d5ca-4523-9f93-6e3595e12e19",
   "metadata": {},
   "source": [
    "### Prepare data for RFM"
   ]
  },
  {
   "attachments": {},
   "cell_type": "markdown",
   "id": "a2f30863-9cb6-4f56-a11e-9c47fd22647a",
   "metadata": {},
   "source": [
    "Temporary dataframe to create RFM segmentation"
   ]
  },
  {
   "cell_type": "code",
   "execution_count": 36,
   "id": "45e9d166-787b-4cd4-9ad3-8fd5dd16c555",
   "metadata": {},
   "outputs": [],
   "source": [
    "agg_df = df.select(\"BillNo\", \"CustomerID\", \"Date\", \"TotalPrice\").groupBy(\"BillNo\", \"CustomerID\", \"Date\") \\\n",
    ".agg(round(sum(\"TotalPrice\"), 2).alias(\"TotalPrice\"))"
   ]
  },
  {
   "cell_type": "code",
   "execution_count": 37,
   "id": "6fb17ca0-f7d1-4395-8b4a-b2529ea0c523",
   "metadata": {},
   "outputs": [
    {
     "name": "stdout",
     "output_type": "stream",
     "text": [
      "+------+----------+-------------------+----------+\n",
      "|BillNo|CustomerID|               Date|TotalPrice|\n",
      "+------+----------+-------------------+----------+\n",
      "|538509|     14413|2010-12-12 13:37:00|    121.05|\n",
      "|544450|     17811|2011-02-20 12:23:00|   1242.95|\n",
      "|539118|     15563|2010-12-16 11:27:00|    270.19|\n",
      "|541987|     14130|2011-01-24 16:05:00|    480.91|\n",
      "|539095|     16037|2010-12-16 10:18:00|    300.46|\n",
      "+------+----------+-------------------+----------+\n",
      "only showing top 5 rows\n",
      "\n"
     ]
    }
   ],
   "source": [
    "agg_df.show(5)"
   ]
  },
  {
   "attachments": {},
   "cell_type": "markdown",
   "id": "ff170aa0-1b5b-416b-92c2-ad945bdb0a40",
   "metadata": {},
   "source": [
    "### Create RFM segmentation dataframe"
   ]
  },
  {
   "cell_type": "code",
   "execution_count": 38,
   "id": "990a9139-fc27-4893-997c-5758aadae238",
   "metadata": {},
   "outputs": [],
   "source": [
    "# define 1 jan 2012 as latest date\n",
    "latest_date = to_date(lit(\"2012-01-01\"), \"yyyy-MM-dd\")"
   ]
  },
  {
   "cell_type": "code",
   "execution_count": 39,
   "id": "fc09fe47-c15f-4ebc-ba33-28c96e405536",
   "metadata": {},
   "outputs": [],
   "source": [
    "# create rfm dataframe\n",
    "# recency = latest date - date\n",
    "# frequency = count number of  bills\n",
    "# monetary = total spend with us\n",
    "rfm_df = agg_df.groupBy(\"CustomerID\").agg(datediff(latest_date, max(col(\"Date\"))).alias(\"Recency\"), \\\n",
    "                                          count(\"BillNo\").alias(\"Frequency\"), \\\n",
    "                                          round(sum(\"TotalPrice\"), 2).alias(\"Monetary\"))"
   ]
  },
  {
   "cell_type": "code",
   "execution_count": 40,
   "id": "bd08b2ee-4bcb-4b39-a685-1386d42c0158",
   "metadata": {},
   "outputs": [
    {
     "name": "stdout",
     "output_type": "stream",
     "text": [
      "+-------+------------------+------------------+-----------------+------------------+\n",
      "|summary|        CustomerID|           Recency|        Frequency|          Monetary|\n",
      "+-------+------------------+------------------+-----------------+------------------+\n",
      "|  count|              4297|              4297|             4297|              4297|\n",
      "|   mean|15315.691179892949|115.13730509657901|4.233651384686991|1987.5408377938106|\n",
      "| stddev| 1716.241593690511|100.14658133817039|7.108585407895454| 8584.801281937924|\n",
      "|    min|             12346|                23|                1|               0.0|\n",
      "|    max|             18287|               396|              211|         280206.02|\n",
      "+-------+------------------+------------------+-----------------+------------------+\n",
      "\n"
     ]
    }
   ],
   "source": [
    "rfm_df.describe().show()"
   ]
  },
  {
   "cell_type": "code",
   "execution_count": 41,
   "id": "dbf1a16c-d91b-4536-b814-ed38a0f639e4",
   "metadata": {},
   "outputs": [],
   "source": [
    "# calculate percentile of RFM\n",
    "rfm_df = rfm_df.withColumn(\"R_pct\", round(percent_rank().over(Window.partitionBy().orderBy(\"Recency\")), 2)) \\\n",
    ".withColumn(\"F_pct\", round(percent_rank().over(Window.partitionBy().orderBy(\"Frequency\")), 2)) \\\n",
    ".withColumn(\"M_pct\", round(percent_rank().over(Window.partitionBy().orderBy(\"Monetary\")), 2))"
   ]
  },
  {
   "cell_type": "code",
   "execution_count": 42,
   "id": "d7eea17a-c30c-41f6-88f5-f94742efdc78",
   "metadata": {},
   "outputs": [],
   "source": [
    "# score 1 to 5 by percentile\n",
    "# recency: low to high\n",
    "# frequency and monetary: high to low\n",
    "rfm_df = rfm_df.withColumn(\"R_score\", \\\n",
    "                           when(col(\"R_pct\") <= 0.2, 5) \\\n",
    "                           .when((col(\"R_pct\") > 0.2)&(col(\"R_pct\") <= 0.4), 4) \\\n",
    "                           .when((col(\"R_pct\") > 0.4)&(col(\"R_pct\") <= 0.6), 3) \\\n",
    "                           .when((col(\"R_pct\") > 0.6)&(col(\"R_pct\") <= 0.8), 2) \\\n",
    "                           .when(col(\"R_pct\") > 0.8, 1) \\\n",
    "                           .otherwise(0)) \\\n",
    "                .withColumn(\"F_score\", \\\n",
    "                           when(col(\"F_pct\") <= 0.2, 1) \\\n",
    "                           .when((col(\"F_pct\") > 0.2)&(col(\"F_pct\") <= 0.4), 2) \\\n",
    "                           .when((col(\"F_pct\") > 0.4)&(col(\"F_pct\") <= 0.6), 3) \\\n",
    "                           .when((col(\"F_pct\") > 0.6)&(col(\"F_pct\") <= 0.8), 4) \\\n",
    "                           .when(col(\"F_pct\") > 0.8, 5) \\\n",
    "                           .otherwise(0)) \\\n",
    "                .withColumn(\"M_score\", \\\n",
    "                           when(col(\"M_pct\") <= 0.2, 1) \\\n",
    "                           .when((col(\"M_pct\") > 0.2)&(col(\"M_pct\") <= 0.4), 2) \\\n",
    "                           .when((col(\"M_pct\") > 0.4)&(col(\"M_pct\") <= 0.6), 3) \\\n",
    "                           .when((col(\"M_pct\") > 0.6)&(col(\"M_pct\") <= 0.8), 4) \\\n",
    "                           .when(col(\"M_pct\") > 0.8, 5) \\\n",
    "                           .otherwise(0)) \\\n",
    "                .drop(\"R_pct\", \"F_pct\", \"M_pct\")"
   ]
  },
  {
   "cell_type": "code",
   "execution_count": 43,
   "id": "6a99e853-9c50-43b4-b396-48dbd1014141",
   "metadata": {},
   "outputs": [
    {
     "name": "stdout",
     "output_type": "stream",
     "text": [
      "+-------+------------------+------------------+-----------------+------------------+-----------------+------------------+------------------+\n",
      "|summary|        CustomerID|           Recency|        Frequency|          Monetary|          R_score|           F_score|           M_score|\n",
      "+-------+------------------+------------------+-----------------+------------------+-----------------+------------------+------------------+\n",
      "|  count|              4297|              4297|             4297|              4297|             4297|              4297|              4297|\n",
      "|   mean|15315.691179892949|115.13730509657901|4.233651384686991|1987.5408377938106|3.035838957412148|2.6283453572259714|2.9799860367698394|\n",
      "| stddev|1716.2415936905106|100.14658133817024|7.108585407895449| 8584.801281937933|1.419018269541311|1.5042976558838501|1.4142365068771616|\n",
      "|    min|             12346|                23|                1|               0.0|                1|                 1|                 1|\n",
      "|    max|             18287|               396|              211|         280206.02|                5|                 5|                 5|\n",
      "+-------+------------------+------------------+-----------------+------------------+-----------------+------------------+------------------+\n",
      "\n"
     ]
    }
   ],
   "source": [
    "rfm_df.describe().show()"
   ]
  },
  {
   "attachments": {},
   "cell_type": "markdown",
   "id": "6f823ff4-1f74-4070-81bc-d5ecf4cf94ff",
   "metadata": {},
   "source": [
    "### Export as parquet file"
   ]
  },
  {
   "cell_type": "code",
   "execution_count": 44,
   "id": "def2bed4-399e-4f4b-9142-e00e348a71e5",
   "metadata": {},
   "outputs": [],
   "source": [
    "rfm_df.write.save(\"rfm.parquet\")"
   ]
  },
  {
   "cell_type": "code",
   "execution_count": 45,
   "id": "441a01b0-c69b-41ec-8dcc-9c078d19b89f",
   "metadata": {},
   "outputs": [],
   "source": [
    "country_df.write.save(\"country.parquet\")"
   ]
  },
  {
   "cell_type": "code",
   "execution_count": 46,
   "id": "fbda3503-d6d7-48f0-9d11-457031a76103",
   "metadata": {},
   "outputs": [],
   "source": [
    "item_df.write.save(\"item.parquet\")"
   ]
  },
  {
   "attachments": {},
   "cell_type": "markdown",
   "id": "a7758db1-38f4-4618-84ac-8abb37ebf31c",
   "metadata": {},
   "source": [
    "### Stop Spark Session"
   ]
  },
  {
   "cell_type": "code",
   "execution_count": 47,
   "id": "31f01a61-a641-4001-9236-0cccd112d2fe",
   "metadata": {},
   "outputs": [],
   "source": [
    "spark.stop()"
   ]
  }
 ],
 "metadata": {
  "kernelspec": {
   "display_name": "Python 3 (ipykernel)",
   "language": "python",
   "name": "python3"
  },
  "language_info": {
   "codemirror_mode": {
    "name": "ipython",
    "version": 3
   },
   "file_extension": ".py",
   "mimetype": "text/x-python",
   "name": "python",
   "nbconvert_exporter": "python",
   "pygments_lexer": "ipython3",
   "version": "3.11.4"
  }
 },
 "nbformat": 4,
 "nbformat_minor": 5
}
